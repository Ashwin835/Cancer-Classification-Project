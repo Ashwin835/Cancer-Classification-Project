{
 "cells": [
  {
   "cell_type": "code",
   "execution_count": 4,
   "id": "c53d01f6",
   "metadata": {},
   "outputs": [],
   "source": [
    "################################################LOGISTIC REGRESSION#########################################################\n",
    "## Overall this model is really good for both the trained and test data, shwoing there was no over/underfitting. The test data\n",
    "## on cross validiation was very high accuracy with low standard deviation. The training data didn't differ much from the \n",
    "## test data"
   ]
  },
  {
   "cell_type": "code",
   "execution_count": 5,
   "id": "5aca728e",
   "metadata": {},
   "outputs": [],
   "source": [
    "################################################ K NEIGHBORS CLASSIFICATION#################################################\n",
    "## This model was also very solid, but not better than the logistic regression. With n_neighbors being 20, you get both \n",
    "## training and testing data with very high accuracy above 95% with low standard deviation. A lower number of neighbors \n",
    "## below 10 would result in good accuracy but a bit higher standard deviation. above 35 will lead to lower accuracies and\n",
    "## higher standard deviations. The accuracy for the test data was very solid, but the standard deviation was a bit higher\n",
    "## compared to logisitc regression, so that is why logistic regression is better"
   ]
  },
  {
   "cell_type": "code",
   "execution_count": 6,
   "id": "b49ed88f",
   "metadata": {},
   "outputs": [],
   "source": [
    "###############################################  SVC (LINEAR) ##############################################################\n",
    "## This model was good for both test and training set. The test set wasn't as accurate as the logistic test set, but the \n",
    "##standard deviation was lower, making it very slightly better than the logistic regression. The value of C doesn't \n",
    "##affect the result of the accuracy and standard deviation drastically. "
   ]
  },
  {
   "cell_type": "code",
   "execution_count": 7,
   "id": "0deeb7b7",
   "metadata": {},
   "outputs": [],
   "source": [
    "############################################## SVC (RBF) ##################################################################\n",
    "## The accuracies and standard deviation for test data of this model were very similar compared to the test results of \n",
    "## the K Neighbors classifier. Both test and train data performed well on the model given their accuracies and standard\n",
    "## deviation. As you increased the gamma parameter, the accuracies and standard deviation got worse. The C parameter\n",
    "## didn't have much of an drastic effect on the percentages regardless of it's value"
   ]
  },
  {
   "cell_type": "code",
   "execution_count": 8,
   "id": "8ac8eb74",
   "metadata": {},
   "outputs": [],
   "source": [
    "####################################### NAIVE BAYES #######################################################################\n",
    "## This model is the least accurate in giving results on the test set. With only 88% accuracy and variance of 9%. However,\n",
    "## there isin't a significant difference compared to others. We are also assuming that all of the independent variables\n",
    "## are independent"
   ]
  },
  {
   "cell_type": "code",
   "execution_count": 9,
   "id": "c7bd923f",
   "metadata": {},
   "outputs": [],
   "source": [
    "###################################### DECISION TREE CLASSIFICATION #######################################################\n",
    "## This model has good accuracy and standard deviation percentages on both test and train data. Still is not the best choice\n",
    "## compared to the other models, but not a bad model"
   ]
  },
  {
   "cell_type": "code",
   "execution_count": 10,
   "id": "8ef02e92",
   "metadata": {},
   "outputs": [],
   "source": [
    "######################################  RANDOM FOREST CLASSIFICATION #######################################################\n",
    "## Just like decision tree classification,Random Forest Classification has good results but is not the best choice still. \n",
    "## With the n_estmates parameter, trees lower than 10 gives worse accuracy with higher standard deviation. Trees higher\n",
    "## than 10 are also good, but then the amount of data per tree decreases, and overfitting can be possible"
   ]
  },
  {
   "cell_type": "code",
   "execution_count": null,
   "id": "e45e72da",
   "metadata": {},
   "outputs": [],
   "source": [
    "########################################  CONCLUSION/BEST MODEL#########################################################\n",
    "## Overall, no model was bad in terms of cross validation results. Both the training and test data had relatively close \n",
    "## accuracy and standard deviation, indicating that there was no over/underfitting. The best model to predict tumor states\n",
    "##given the datset is the linear SVC. It had a very high accuracy percentage. Although the logistic regression had a \n",
    "## slightly higher accuracy, Linear SVC had a lower standard deviation. Linear models worked the best for this dataset"
   ]
  }
 ],
 "metadata": {
  "kernelspec": {
   "display_name": "Python 3 (ipykernel)",
   "language": "python",
   "name": "python3"
  },
  "language_info": {
   "codemirror_mode": {
    "name": "ipython",
    "version": 3
   },
   "file_extension": ".py",
   "mimetype": "text/x-python",
   "name": "python",
   "nbconvert_exporter": "python",
   "pygments_lexer": "ipython3",
   "version": "3.9.7"
  }
 },
 "nbformat": 4,
 "nbformat_minor": 5
}
