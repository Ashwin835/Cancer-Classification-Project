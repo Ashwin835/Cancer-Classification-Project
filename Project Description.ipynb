{
 "cells": [
  {
   "cell_type": "code",
   "execution_count": null,
   "id": "4aadc43e",
   "metadata": {},
   "outputs": [],
   "source": [
    "## This Dataset was obtained from the url: https://www.kaggle.com/datasets/shravan3273/breast-cancer-classifiction"
   ]
  },
  {
   "cell_type": "code",
   "execution_count": null,
   "id": "7f819fe2",
   "metadata": {},
   "outputs": [],
   "source": [
    "## Given a bunch of features of a tumor, we want to find a model that gives the best predictions on if a tumor is benign\n",
    "## or malignant. Finding the best fitting model has many factors to it, but for this project only the \n",
    "## cross val score is being looked at, along with any major overfitting/underfitting. Given the size of the data, 10 folds\n",
    "##for cross validation was chosen as there wasn't any over/underfitting as well. Some of the models tested are logistic\n",
    "## regression, K neighbors classifier, naive bayes, support vector classification (linear and rbf), decision tree \n",
    "##classification and random forest classification"
   ]
  }
 ],
 "metadata": {
  "kernelspec": {
   "display_name": "Python 3 (ipykernel)",
   "language": "python",
   "name": "python3"
  },
  "language_info": {
   "codemirror_mode": {
    "name": "ipython",
    "version": 3
   },
   "file_extension": ".py",
   "mimetype": "text/x-python",
   "name": "python",
   "nbconvert_exporter": "python",
   "pygments_lexer": "ipython3",
   "version": "3.9.7"
  }
 },
 "nbformat": 4,
 "nbformat_minor": 5
}
